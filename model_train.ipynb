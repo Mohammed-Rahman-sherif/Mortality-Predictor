{
  "cells": [
    {
      "cell_type": "code",
      "execution_count": 17,
      "metadata": {
        "id": "__bqIbeRFofW"
      },
      "outputs": [],
      "source": [
        "import pandas as pd\n",
        "import io"
      ]
    },
    {
      "cell_type": "code",
      "execution_count": 18,
      "metadata": {
        "colab": {
          "base_uri": "https://localhost:8080/"
        },
        "id": "2v5GshKzMDyH",
        "outputId": "2f2a6861-a445-4e9f-f90f-be80821ed742"
      },
      "outputs": [
        {
          "name": "stderr",
          "output_type": "stream",
          "text": [
            "c:\\Users\\smart\\Anaconda3\\envs\\workspace\\lib\\site-packages\\IPython\\core\\interactiveshell.py:3072: DtypeWarning: Columns (16,17,18,22,23,24,25,26,27,28,29,30,31,32,33,76) have mixed types.Specify dtype option on import or set low_memory=False.\n",
            "  interactivity=interactivity, compiler=compiler, result=result)\n"
          ]
        }
      ],
      "source": [
        "all_data=pd.read_csv(\"dataset.data\",nrows=25175)"
      ]
    },
    {
      "cell_type": "code",
      "execution_count": 19,
      "metadata": {
        "colab": {
          "base_uri": "https://localhost:8080/",
          "height": 487
        },
        "id": "K_Z6quqsMJ5L",
        "outputId": "8d11dd0d-3a1d-42ff-b5b5-89a9c34ccc3d"
      },
      "outputs": [
        {
          "data": {
            "text/html": [
              "<div>\n",
              "<style scoped>\n",
              "    .dataframe tbody tr th:only-of-type {\n",
              "        vertical-align: middle;\n",
              "    }\n",
              "\n",
              "    .dataframe tbody tr th {\n",
              "        vertical-align: top;\n",
              "    }\n",
              "\n",
              "    .dataframe thead th {\n",
              "        text-align: right;\n",
              "    }\n",
              "</style>\n",
              "<table border=\"1\" class=\"dataframe\">\n",
              "  <thead>\n",
              "    <tr style=\"text-align: right;\">\n",
              "      <th></th>\n",
              "      <th>id</th>\n",
              "      <th>m_id</th>\n",
              "      <th>client_m_id</th>\n",
              "      <th>hl_id</th>\n",
              "      <th>house_no</th>\n",
              "      <th>house_hold_no</th>\n",
              "      <th>state</th>\n",
              "      <th>district</th>\n",
              "      <th>rural</th>\n",
              "      <th>stratum_code</th>\n",
              "      <th>...</th>\n",
              "      <th>householdstatus</th>\n",
              "      <th>isheadchanged</th>\n",
              "      <th>fidh</th>\n",
              "      <th>fidx</th>\n",
              "      <th>as</th>\n",
              "      <th>wt</th>\n",
              "      <th>x</th>\n",
              "      <th>schedule_id</th>\n",
              "      <th>year</th>\n",
              "      <th>v126</th>\n",
              "    </tr>\n",
              "  </thead>\n",
              "  <tbody>\n",
              "    <tr>\n",
              "      <th>0</th>\n",
              "      <td>712232</td>\n",
              "      <td>375.0</td>\n",
              "      <td>NaN</td>\n",
              "      <td>2944.0</td>\n",
              "      <td>63</td>\n",
              "      <td>3</td>\n",
              "      <td>9</td>\n",
              "      <td>58</td>\n",
              "      <td>1</td>\n",
              "      <td>1</td>\n",
              "      <td>...</td>\n",
              "      <td>NaN</td>\n",
              "      <td>NaN</td>\n",
              "      <td>NaN</td>\n",
              "      <td>2.944096e+10</td>\n",
              "      <td>-0.630351</td>\n",
              "      <td>68.37</td>\n",
              "      <td>NaN</td>\n",
              "      <td>4</td>\n",
              "      <td>1</td>\n",
              "      <td>NaN</td>\n",
              "    </tr>\n",
              "    <tr>\n",
              "      <th>1</th>\n",
              "      <td>712240</td>\n",
              "      <td>383.0</td>\n",
              "      <td>NaN</td>\n",
              "      <td>2997.0</td>\n",
              "      <td>28</td>\n",
              "      <td>1</td>\n",
              "      <td>9</td>\n",
              "      <td>58</td>\n",
              "      <td>1</td>\n",
              "      <td>1</td>\n",
              "      <td>...</td>\n",
              "      <td>NaN</td>\n",
              "      <td>NaN</td>\n",
              "      <td>NaN</td>\n",
              "      <td>2.997096e+10</td>\n",
              "      <td>-4.369212</td>\n",
              "      <td>68.37</td>\n",
              "      <td>NaN</td>\n",
              "      <td>4</td>\n",
              "      <td>1</td>\n",
              "      <td>NaN</td>\n",
              "    </tr>\n",
              "    <tr>\n",
              "      <th>2</th>\n",
              "      <td>109886</td>\n",
              "      <td>246.0</td>\n",
              "      <td>NaN</td>\n",
              "      <td>NaN</td>\n",
              "      <td>58</td>\n",
              "      <td>1</td>\n",
              "      <td>9</td>\n",
              "      <td>62</td>\n",
              "      <td>1</td>\n",
              "      <td>2</td>\n",
              "      <td>...</td>\n",
              "      <td>1.0</td>\n",
              "      <td>1.0</td>\n",
              "      <td>9.620340e+13</td>\n",
              "      <td>NaN</td>\n",
              "      <td>NaN</td>\n",
              "      <td>20.95</td>\n",
              "      <td>NaN</td>\n",
              "      <td>4</td>\n",
              "      <td>3</td>\n",
              "      <td>NaN</td>\n",
              "    </tr>\n",
              "    <tr>\n",
              "      <th>3</th>\n",
              "      <td>712216</td>\n",
              "      <td>359.0</td>\n",
              "      <td>NaN</td>\n",
              "      <td>2706.0</td>\n",
              "      <td>196</td>\n",
              "      <td>1</td>\n",
              "      <td>9</td>\n",
              "      <td>58</td>\n",
              "      <td>1</td>\n",
              "      <td>1</td>\n",
              "      <td>...</td>\n",
              "      <td>NaN</td>\n",
              "      <td>NaN</td>\n",
              "      <td>NaN</td>\n",
              "      <td>2.706096e+10</td>\n",
              "      <td>-2.996541</td>\n",
              "      <td>68.37</td>\n",
              "      <td>NaN</td>\n",
              "      <td>4</td>\n",
              "      <td>1</td>\n",
              "      <td>NaN</td>\n",
              "    </tr>\n",
              "    <tr>\n",
              "      <th>4</th>\n",
              "      <td>712224</td>\n",
              "      <td>367.0</td>\n",
              "      <td>NaN</td>\n",
              "      <td>2777.0</td>\n",
              "      <td>253</td>\n",
              "      <td>1</td>\n",
              "      <td>9</td>\n",
              "      <td>58</td>\n",
              "      <td>1</td>\n",
              "      <td>1</td>\n",
              "      <td>...</td>\n",
              "      <td>NaN</td>\n",
              "      <td>NaN</td>\n",
              "      <td>NaN</td>\n",
              "      <td>2.777096e+10</td>\n",
              "      <td>-3.951137</td>\n",
              "      <td>68.37</td>\n",
              "      <td>NaN</td>\n",
              "      <td>4</td>\n",
              "      <td>1</td>\n",
              "      <td>NaN</td>\n",
              "    </tr>\n",
              "    <tr>\n",
              "      <th>...</th>\n",
              "      <td>...</td>\n",
              "      <td>...</td>\n",
              "      <td>...</td>\n",
              "      <td>...</td>\n",
              "      <td>...</td>\n",
              "      <td>...</td>\n",
              "      <td>...</td>\n",
              "      <td>...</td>\n",
              "      <td>...</td>\n",
              "      <td>...</td>\n",
              "      <td>...</td>\n",
              "      <td>...</td>\n",
              "      <td>...</td>\n",
              "      <td>...</td>\n",
              "      <td>...</td>\n",
              "      <td>...</td>\n",
              "      <td>...</td>\n",
              "      <td>...</td>\n",
              "      <td>...</td>\n",
              "      <td>...</td>\n",
              "      <td>...</td>\n",
              "    </tr>\n",
              "    <tr>\n",
              "      <th>25170</th>\n",
              "      <td>643135</td>\n",
              "      <td>410.0</td>\n",
              "      <td>401.0</td>\n",
              "      <td>6366.0</td>\n",
              "      <td>244</td>\n",
              "      <td>1</td>\n",
              "      <td>9</td>\n",
              "      <td>3</td>\n",
              "      <td>1</td>\n",
              "      <td>2</td>\n",
              "      <td>...</td>\n",
              "      <td>NaN</td>\n",
              "      <td>NaN</td>\n",
              "      <td>NaN</td>\n",
              "      <td>6.366090e+10</td>\n",
              "      <td>5.052841</td>\n",
              "      <td>54.85</td>\n",
              "      <td>NaN</td>\n",
              "      <td>4</td>\n",
              "      <td>1</td>\n",
              "      <td>NaN</td>\n",
              "    </tr>\n",
              "    <tr>\n",
              "      <th>25171</th>\n",
              "      <td>643143</td>\n",
              "      <td>938.0</td>\n",
              "      <td>1009.0</td>\n",
              "      <td>6483.0</td>\n",
              "      <td>66</td>\n",
              "      <td>1</td>\n",
              "      <td>9</td>\n",
              "      <td>3</td>\n",
              "      <td>1</td>\n",
              "      <td>2</td>\n",
              "      <td>...</td>\n",
              "      <td>NaN</td>\n",
              "      <td>NaN</td>\n",
              "      <td>NaN</td>\n",
              "      <td>6.483090e+10</td>\n",
              "      <td>0.292205</td>\n",
              "      <td>54.85</td>\n",
              "      <td>NaN</td>\n",
              "      <td>4</td>\n",
              "      <td>1</td>\n",
              "      <td>NaN</td>\n",
              "    </tr>\n",
              "    <tr>\n",
              "      <th>25172</th>\n",
              "      <td>102148</td>\n",
              "      <td>38.0</td>\n",
              "      <td>NaN</td>\n",
              "      <td>NaN</td>\n",
              "      <td>56</td>\n",
              "      <td>1</td>\n",
              "      <td>9</td>\n",
              "      <td>61</td>\n",
              "      <td>2</td>\n",
              "      <td>0</td>\n",
              "      <td>...</td>\n",
              "      <td>1.0</td>\n",
              "      <td>2.0</td>\n",
              "      <td>9.610740e+13</td>\n",
              "      <td>NaN</td>\n",
              "      <td>NaN</td>\n",
              "      <td>54.00</td>\n",
              "      <td>NaN</td>\n",
              "      <td>4</td>\n",
              "      <td>3</td>\n",
              "      <td>NaN</td>\n",
              "    </tr>\n",
              "    <tr>\n",
              "      <th>25173</th>\n",
              "      <td>643119</td>\n",
              "      <td>394.0</td>\n",
              "      <td>385.0</td>\n",
              "      <td>6140.0</td>\n",
              "      <td>34</td>\n",
              "      <td>1</td>\n",
              "      <td>9</td>\n",
              "      <td>3</td>\n",
              "      <td>1</td>\n",
              "      <td>2</td>\n",
              "      <td>...</td>\n",
              "      <td>NaN</td>\n",
              "      <td>NaN</td>\n",
              "      <td>NaN</td>\n",
              "      <td>6.140090e+10</td>\n",
              "      <td>-2.376460</td>\n",
              "      <td>54.85</td>\n",
              "      <td>NaN</td>\n",
              "      <td>4</td>\n",
              "      <td>1</td>\n",
              "      <td>NaN</td>\n",
              "    </tr>\n",
              "    <tr>\n",
              "      <th>25174</th>\n",
              "      <td>643127</td>\n",
              "      <td>402.0</td>\n",
              "      <td>393.0</td>\n",
              "      <td>6229.0</td>\n",
              "      <td>122</td>\n",
              "      <td>1</td>\n",
              "      <td>9</td>\n",
              "      <td>3</td>\n",
              "      <td>1</td>\n",
              "      <td>2</td>\n",
              "      <td>...</td>\n",
              "      <td>NaN</td>\n",
              "      <td>NaN</td>\n",
              "      <td>NaN</td>\n",
              "      <td>6.229090e+10</td>\n",
              "      <td>-0.566020</td>\n",
              "      <td>54.85</td>\n",
              "      <td>NaN</td>\n",
              "      <td>4</td>\n",
              "      <td>1</td>\n",
              "      <td>NaN</td>\n",
              "    </tr>\n",
              "  </tbody>\n",
              "</table>\n",
              "<p>25175 rows × 122 columns</p>\n",
              "</div>"
            ],
            "text/plain": [
              "           id   m_id  client_m_id   hl_id  house_no  house_hold_no  state  \\\n",
              "0      712232  375.0          NaN  2944.0        63              3      9   \n",
              "1      712240  383.0          NaN  2997.0        28              1      9   \n",
              "2      109886  246.0          NaN     NaN        58              1      9   \n",
              "3      712216  359.0          NaN  2706.0       196              1      9   \n",
              "4      712224  367.0          NaN  2777.0       253              1      9   \n",
              "...       ...    ...          ...     ...       ...            ...    ...   \n",
              "25170  643135  410.0        401.0  6366.0       244              1      9   \n",
              "25171  643143  938.0       1009.0  6483.0        66              1      9   \n",
              "25172  102148   38.0          NaN     NaN        56              1      9   \n",
              "25173  643119  394.0        385.0  6140.0        34              1      9   \n",
              "25174  643127  402.0        393.0  6229.0       122              1      9   \n",
              "\n",
              "       district  rural  stratum_code  ...  householdstatus  isheadchanged  \\\n",
              "0            58      1             1  ...              NaN            NaN   \n",
              "1            58      1             1  ...              NaN            NaN   \n",
              "2            62      1             2  ...              1.0            1.0   \n",
              "3            58      1             1  ...              NaN            NaN   \n",
              "4            58      1             1  ...              NaN            NaN   \n",
              "...         ...    ...           ...  ...              ...            ...   \n",
              "25170         3      1             2  ...              NaN            NaN   \n",
              "25171         3      1             2  ...              NaN            NaN   \n",
              "25172        61      2             0  ...              1.0            2.0   \n",
              "25173         3      1             2  ...              NaN            NaN   \n",
              "25174         3      1             2  ...              NaN            NaN   \n",
              "\n",
              "               fidh          fidx        as     wt   x schedule_id year  v126  \n",
              "0               NaN  2.944096e+10 -0.630351  68.37 NaN           4    1   NaN  \n",
              "1               NaN  2.997096e+10 -4.369212  68.37 NaN           4    1   NaN  \n",
              "2      9.620340e+13           NaN       NaN  20.95 NaN           4    3   NaN  \n",
              "3               NaN  2.706096e+10 -2.996541  68.37 NaN           4    1   NaN  \n",
              "4               NaN  2.777096e+10 -3.951137  68.37 NaN           4    1   NaN  \n",
              "...             ...           ...       ...    ...  ..         ...  ...   ...  \n",
              "25170           NaN  6.366090e+10  5.052841  54.85 NaN           4    1   NaN  \n",
              "25171           NaN  6.483090e+10  0.292205  54.85 NaN           4    1   NaN  \n",
              "25172  9.610740e+13           NaN       NaN  54.00 NaN           4    3   NaN  \n",
              "25173           NaN  6.140090e+10 -2.376460  54.85 NaN           4    1   NaN  \n",
              "25174           NaN  6.229090e+10 -0.566020  54.85 NaN           4    1   NaN  \n",
              "\n",
              "[25175 rows x 122 columns]"
            ]
          },
          "execution_count": 19,
          "metadata": {},
          "output_type": "execute_result"
        }
      ],
      "source": [
        "all_data"
      ]
    },
    {
      "cell_type": "code",
      "execution_count": 20,
      "metadata": {
        "id": "2dRz699vY0bf"
      },
      "outputs": [],
      "source": [
        "columns = [\"age\",\"sex\", \"highest_qualification\", \"rural\", \"disability_status\", \"is_water_filter\", \"chew\", \"smoke\", \"alcohol\",\"treatment_source\"]\n",
        "death = all_data[columns].copy()"
      ]
    },
    {
      "cell_type": "code",
      "execution_count": 21,
      "metadata": {
        "id": "gc4_n89QpesQ"
      },
      "outputs": [],
      "source": [
        "for column in columns:\n",
        "    death[column].fillna(death[column].mode()[0], inplace=True)\n"
      ]
    },
    {
      "cell_type": "code",
      "execution_count": 22,
      "metadata": {
        "colab": {
          "base_uri": "https://localhost:8080/"
        },
        "id": "WIKBYuxLpiqo",
        "outputId": "93155224-9637-4469-ee37-e2954e39c92e"
      },
      "outputs": [
        {
          "data": {
            "text/plain": [
              "age                      0\n",
              "sex                      0\n",
              "highest_qualification    0\n",
              "rural                    0\n",
              "disability_status        0\n",
              "is_water_filter          0\n",
              "chew                     0\n",
              "smoke                    0\n",
              "alcohol                  0\n",
              "treatment_source         0\n",
              "dtype: int64"
            ]
          },
          "execution_count": 22,
          "metadata": {},
          "output_type": "execute_result"
        }
      ],
      "source": [
        "death.isnull().sum()"
      ]
    },
    {
      "cell_type": "code",
      "execution_count": 23,
      "metadata": {
        "colab": {
          "base_uri": "https://localhost:8080/",
          "height": 487
        },
        "id": "CnpmYoLlGclT",
        "outputId": "a693a44f-c2c1-44bd-cbf0-0828cf3fd29d"
      },
      "outputs": [
        {
          "data": {
            "text/html": [
              "<div>\n",
              "<style scoped>\n",
              "    .dataframe tbody tr th:only-of-type {\n",
              "        vertical-align: middle;\n",
              "    }\n",
              "\n",
              "    .dataframe tbody tr th {\n",
              "        vertical-align: top;\n",
              "    }\n",
              "\n",
              "    .dataframe thead th {\n",
              "        text-align: right;\n",
              "    }\n",
              "</style>\n",
              "<table border=\"1\" class=\"dataframe\">\n",
              "  <thead>\n",
              "    <tr style=\"text-align: right;\">\n",
              "      <th></th>\n",
              "      <th>age</th>\n",
              "      <th>sex</th>\n",
              "      <th>highest_qualification</th>\n",
              "      <th>rural</th>\n",
              "      <th>disability_status</th>\n",
              "      <th>is_water_filter</th>\n",
              "      <th>chew</th>\n",
              "      <th>smoke</th>\n",
              "      <th>alcohol</th>\n",
              "      <th>treatment_source</th>\n",
              "    </tr>\n",
              "  </thead>\n",
              "  <tbody>\n",
              "    <tr>\n",
              "      <th>0</th>\n",
              "      <td>43.0</td>\n",
              "      <td>1.0</td>\n",
              "      <td>4.0</td>\n",
              "      <td>1</td>\n",
              "      <td>0.0</td>\n",
              "      <td>2.0</td>\n",
              "      <td>7.0</td>\n",
              "      <td>4.0</td>\n",
              "      <td>4.0</td>\n",
              "      <td>0.0</td>\n",
              "    </tr>\n",
              "    <tr>\n",
              "      <th>1</th>\n",
              "      <td>70.0</td>\n",
              "      <td>2.0</td>\n",
              "      <td>0.0</td>\n",
              "      <td>1</td>\n",
              "      <td>0.0</td>\n",
              "      <td>2.0</td>\n",
              "      <td>5.0</td>\n",
              "      <td>4.0</td>\n",
              "      <td>4.0</td>\n",
              "      <td>9.0</td>\n",
              "    </tr>\n",
              "    <tr>\n",
              "      <th>2</th>\n",
              "      <td>57.0</td>\n",
              "      <td>2.0</td>\n",
              "      <td>3.0</td>\n",
              "      <td>1</td>\n",
              "      <td>0.0</td>\n",
              "      <td>2.0</td>\n",
              "      <td>7.0</td>\n",
              "      <td>4.0</td>\n",
              "      <td>4.0</td>\n",
              "      <td>0.0</td>\n",
              "    </tr>\n",
              "    <tr>\n",
              "      <th>3</th>\n",
              "      <td>50.0</td>\n",
              "      <td>1.0</td>\n",
              "      <td>0.0</td>\n",
              "      <td>1</td>\n",
              "      <td>0.0</td>\n",
              "      <td>2.0</td>\n",
              "      <td>1.0</td>\n",
              "      <td>1.0</td>\n",
              "      <td>1.0</td>\n",
              "      <td>9.0</td>\n",
              "    </tr>\n",
              "    <tr>\n",
              "      <th>4</th>\n",
              "      <td>65.0</td>\n",
              "      <td>2.0</td>\n",
              "      <td>0.0</td>\n",
              "      <td>1</td>\n",
              "      <td>0.0</td>\n",
              "      <td>2.0</td>\n",
              "      <td>7.0</td>\n",
              "      <td>4.0</td>\n",
              "      <td>4.0</td>\n",
              "      <td>0.0</td>\n",
              "    </tr>\n",
              "    <tr>\n",
              "      <th>...</th>\n",
              "      <td>...</td>\n",
              "      <td>...</td>\n",
              "      <td>...</td>\n",
              "      <td>...</td>\n",
              "      <td>...</td>\n",
              "      <td>...</td>\n",
              "      <td>...</td>\n",
              "      <td>...</td>\n",
              "      <td>...</td>\n",
              "      <td>...</td>\n",
              "    </tr>\n",
              "    <tr>\n",
              "      <th>25170</th>\n",
              "      <td>38.0</td>\n",
              "      <td>1.0</td>\n",
              "      <td>4.0</td>\n",
              "      <td>1</td>\n",
              "      <td>0.0</td>\n",
              "      <td>2.0</td>\n",
              "      <td>3.0</td>\n",
              "      <td>4.0</td>\n",
              "      <td>4.0</td>\n",
              "      <td>9.0</td>\n",
              "    </tr>\n",
              "    <tr>\n",
              "      <th>25171</th>\n",
              "      <td>38.0</td>\n",
              "      <td>2.0</td>\n",
              "      <td>0.0</td>\n",
              "      <td>1</td>\n",
              "      <td>0.0</td>\n",
              "      <td>2.0</td>\n",
              "      <td>7.0</td>\n",
              "      <td>4.0</td>\n",
              "      <td>4.0</td>\n",
              "      <td>8.0</td>\n",
              "    </tr>\n",
              "    <tr>\n",
              "      <th>25172</th>\n",
              "      <td>42.0</td>\n",
              "      <td>1.0</td>\n",
              "      <td>0.0</td>\n",
              "      <td>2</td>\n",
              "      <td>0.0</td>\n",
              "      <td>2.0</td>\n",
              "      <td>1.0</td>\n",
              "      <td>1.0</td>\n",
              "      <td>4.0</td>\n",
              "      <td>6.0</td>\n",
              "    </tr>\n",
              "    <tr>\n",
              "      <th>25173</th>\n",
              "      <td>35.0</td>\n",
              "      <td>1.0</td>\n",
              "      <td>0.0</td>\n",
              "      <td>1</td>\n",
              "      <td>0.0</td>\n",
              "      <td>2.0</td>\n",
              "      <td>7.0</td>\n",
              "      <td>1.0</td>\n",
              "      <td>4.0</td>\n",
              "      <td>8.0</td>\n",
              "    </tr>\n",
              "    <tr>\n",
              "      <th>25174</th>\n",
              "      <td>60.0</td>\n",
              "      <td>2.0</td>\n",
              "      <td>0.0</td>\n",
              "      <td>1</td>\n",
              "      <td>0.0</td>\n",
              "      <td>2.0</td>\n",
              "      <td>7.0</td>\n",
              "      <td>4.0</td>\n",
              "      <td>4.0</td>\n",
              "      <td>8.0</td>\n",
              "    </tr>\n",
              "  </tbody>\n",
              "</table>\n",
              "<p>25175 rows × 10 columns</p>\n",
              "</div>"
            ],
            "text/plain": [
              "        age  sex  highest_qualification  rural  disability_status  \\\n",
              "0      43.0  1.0                    4.0      1                0.0   \n",
              "1      70.0  2.0                    0.0      1                0.0   \n",
              "2      57.0  2.0                    3.0      1                0.0   \n",
              "3      50.0  1.0                    0.0      1                0.0   \n",
              "4      65.0  2.0                    0.0      1                0.0   \n",
              "...     ...  ...                    ...    ...                ...   \n",
              "25170  38.0  1.0                    4.0      1                0.0   \n",
              "25171  38.0  2.0                    0.0      1                0.0   \n",
              "25172  42.0  1.0                    0.0      2                0.0   \n",
              "25173  35.0  1.0                    0.0      1                0.0   \n",
              "25174  60.0  2.0                    0.0      1                0.0   \n",
              "\n",
              "       is_water_filter  chew  smoke  alcohol  treatment_source  \n",
              "0                  2.0   7.0    4.0      4.0               0.0  \n",
              "1                  2.0   5.0    4.0      4.0               9.0  \n",
              "2                  2.0   7.0    4.0      4.0               0.0  \n",
              "3                  2.0   1.0    1.0      1.0               9.0  \n",
              "4                  2.0   7.0    4.0      4.0               0.0  \n",
              "...                ...   ...    ...      ...               ...  \n",
              "25170              2.0   3.0    4.0      4.0               9.0  \n",
              "25171              2.0   7.0    4.0      4.0               8.0  \n",
              "25172              2.0   1.0    1.0      4.0               6.0  \n",
              "25173              2.0   7.0    1.0      4.0               8.0  \n",
              "25174              2.0   7.0    4.0      4.0               8.0  \n",
              "\n",
              "[25175 rows x 10 columns]"
            ]
          },
          "execution_count": 23,
          "metadata": {},
          "output_type": "execute_result"
        }
      ],
      "source": [
        "death"
      ]
    },
    {
      "cell_type": "code",
      "execution_count": 24,
      "metadata": {
        "colab": {
          "base_uri": "https://localhost:8080/"
        },
        "id": "9KF8cBrpFtKG",
        "outputId": "4f84779a-a034-4ab7-839b-5023e5ca5a05"
      },
      "outputs": [
        {
          "data": {
            "text/plain": [
              "age                      float64\n",
              "sex                      float64\n",
              "highest_qualification    float64\n",
              "rural                      int64\n",
              "disability_status        float64\n",
              "is_water_filter          float64\n",
              "chew                     float64\n",
              "smoke                    float64\n",
              "alcohol                  float64\n",
              "treatment_source         float64\n",
              "dtype: object"
            ]
          },
          "execution_count": 24,
          "metadata": {},
          "output_type": "execute_result"
        }
      ],
      "source": [
        "death.dtypes"
      ]
    },
    {
      "cell_type": "code",
      "execution_count": 25,
      "metadata": {
        "id": "JWoVMu4kq_0k"
      },
      "outputs": [],
      "source": [
        "x=death.drop('age',axis=1)\n",
        "y=death['age']"
      ]
    },
    {
      "cell_type": "code",
      "execution_count": 26,
      "metadata": {
        "colab": {
          "base_uri": "https://localhost:8080/"
        },
        "id": "DTBjdWv1rHKD",
        "outputId": "0d63eac2-55ab-4743-f20c-e33c2edd16bb"
      },
      "outputs": [
        {
          "data": {
            "text/plain": [
              "(25175, 9)"
            ]
          },
          "execution_count": 26,
          "metadata": {},
          "output_type": "execute_result"
        }
      ],
      "source": [
        "x.shape"
      ]
    },
    {
      "cell_type": "code",
      "execution_count": 27,
      "metadata": {
        "colab": {
          "base_uri": "https://localhost:8080/"
        },
        "id": "guIUGSszFwJt",
        "outputId": "782f8e98-c5af-4025-ff35-24f53d28e28a"
      },
      "outputs": [
        {
          "data": {
            "text/plain": [
              "sex                      float64\n",
              "highest_qualification    float64\n",
              "rural                      int64\n",
              "disability_status        float64\n",
              "is_water_filter          float64\n",
              "chew                     float64\n",
              "smoke                    float64\n",
              "alcohol                  float64\n",
              "treatment_source         float64\n",
              "dtype: object"
            ]
          },
          "execution_count": 27,
          "metadata": {},
          "output_type": "execute_result"
        }
      ],
      "source": [
        "x.dtypes"
      ]
    },
    {
      "cell_type": "code",
      "execution_count": 28,
      "metadata": {
        "colab": {
          "base_uri": "https://localhost:8080/"
        },
        "id": "YbDv1mqYrItn",
        "outputId": "7078b7ea-4bce-496f-9595-f03074b629c1"
      },
      "outputs": [
        {
          "data": {
            "text/plain": [
              "(25175,)"
            ]
          },
          "execution_count": 28,
          "metadata": {},
          "output_type": "execute_result"
        }
      ],
      "source": [
        "y.shape"
      ]
    },
    {
      "cell_type": "code",
      "execution_count": 29,
      "metadata": {
        "id": "luOCyZesrTTW"
      },
      "outputs": [],
      "source": [
        "#train-test split\n",
        "from sklearn.model_selection import train_test_split\n",
        "\n",
        "X_train, X_test,y_train, y_test = train_test_split(x,y ,random_state=104,test_size=0.25,shuffle=True)"
      ]
    },
    {
      "cell_type": "code",
      "execution_count": 30,
      "metadata": {
        "colab": {
          "base_uri": "https://localhost:8080/"
        },
        "id": "f1U0H5Aqs6MW",
        "outputId": "171443b8-41de-4a90-d5d8-9e1c9df9ffc3"
      },
      "outputs": [
        {
          "data": {
            "text/plain": [
              "(18881, 9)"
            ]
          },
          "execution_count": 30,
          "metadata": {},
          "output_type": "execute_result"
        }
      ],
      "source": [
        "X_train.shape"
      ]
    },
    {
      "cell_type": "code",
      "execution_count": 52,
      "metadata": {},
      "outputs": [
        {
          "data": {
            "text/plain": [
              "LinearRegression()"
            ]
          },
          "execution_count": 52,
          "metadata": {},
          "output_type": "execute_result"
        }
      ],
      "source": [
        "from sklearn.linear_model import LinearRegression\n",
        "reg = LinearRegression()\n",
        "reg.fit(X_train, y_train)"
      ]
    },
    {
      "cell_type": "code",
      "execution_count": 53,
      "metadata": {},
      "outputs": [],
      "source": [
        "y_pred = reg.predict(X_test)"
      ]
    },
    {
      "cell_type": "code",
      "execution_count": 54,
      "metadata": {},
      "outputs": [
        {
          "name": "stdout",
          "output_type": "stream",
          "text": [
            "11.937781159786292\n",
            "203.60133116755716\n",
            "0.04146390900500163\n"
          ]
        }
      ],
      "source": [
        "from sklearn.metrics import mean_absolute_error,mean_squared_error,r2_score\n",
        "print(mean_absolute_error(y_test,y_pred))\n",
        "print(mean_squared_error(y_test,y_pred))\n",
        "print(r2_score(y_test,y_pred))"
      ]
    },
    {
      "cell_type": "code",
      "execution_count": 55,
      "metadata": {},
      "outputs": [
        {
          "data": {
            "text/plain": [
              "<matplotlib.collections.PathCollection at 0x1ca15764208>"
            ]
          },
          "execution_count": 55,
          "metadata": {},
          "output_type": "execute_result"
        },
        {
          "data": {
            "image/png": "[encoded data removed]",
            "text/plain": [
              "<Figure size 432x288 with 1 Axes>"
            ]
          },
          "metadata": {
            "needs_background": "light"
          },
          "output_type": "display_data"
        }
      ],
      "source": [
        "plt.scatter(y_test,y_pred)"
      ]
    },
    {
      "cell_type": "code",
      "execution_count": 56,
      "metadata": {},
      "outputs": [
        {
          "name": "stdout",
          "output_type": "stream",
          "text": [
            "Accuracy: 3.84 %\n",
            "Standard Deviation: 0.82 %\n"
          ]
        }
      ],
      "source": [
        "from sklearn.model_selection import cross_val_score\n",
        "cvs = cross_val_score(reg,X_train,y_train,cv=10,n_jobs=-1)\n",
        "print('Accuracy: {:.2f} %'.format(cvs.mean()*100))\n",
        "print('Standard Deviation: {:.2f} %'.format(cvs.std()*100))"
      ]
    },
    {
      "cell_type": "code",
      "execution_count": 68,
      "metadata": {},
      "outputs": [
        {
          "data": {
            "text/plain": [
              "RandomForestRegressor()"
            ]
          },
          "execution_count": 68,
          "metadata": {},
          "output_type": "execute_result"
        }
      ],
      "source": [
        "from sklearn.ensemble import RandomForestRegressor\n",
        "rf = RandomForestRegressor()\n",
        "\n",
        "# Train the model on the training data\n",
        "rf.fit(X_train, y_train)"
      ]
    },
    {
      "cell_type": "code",
      "execution_count": 69,
      "metadata": {},
      "outputs": [
        {
          "name": "stdout",
          "output_type": "stream",
          "text": [
            "Mean Squared Error (MSE): 205.11732706512902\n",
            "R-squared (R2) Score: 0.034326741613757705\n"
          ]
        }
      ],
      "source": [
        "y_pred = rf.predict(X_test)\n",
        "mse = mean_squared_error(y_test, y_pred)\n",
        "r2 = r2_score(y_test, y_pred)\n",
        "\n",
        "# Print the evaluation metrics\n",
        "print(\"Mean Squared Error (MSE):\", mse)\n",
        "print(\"R-squared (R2) Score:\", r2)"
      ]
    },
    {
      "cell_type": "code",
      "execution_count": null,
      "metadata": {},
      "outputs": [],
      "source": [
        "import tensorflow as tf\n",
        "from keras.models import Sequential\n",
        "from keras.layers import Dense\n",
        "from keras.callbacks import ModelCheckpoint, EarlyStopping, LearningRateScheduler\n",
        "model = Sequential()\n",
        "model.add(Dense(units=64, activation='relu', input_dim=X_train.shape[1]))\n",
        "model.add(Dense(units=32, activation='relu'))\n",
        "model.add(Dense(units=1, activation='linear'))  # Use linear activation for regression"
      ]
    },
    {
      "cell_type": "code",
      "execution_count": 57,
      "metadata": {
        "colab": {
          "base_uri": "https://localhost:8080/"
        },
        "id": "vKsDJYLus_Ve",
        "outputId": "5b6acb09-3cc4-42c7-aabd-c07c3f60624d"
      },
      "outputs": [
        {
          "name": "stdout",
          "output_type": "stream",
          "text": [
            "Model: \"sequential_1\"\n",
            "_________________________________________________________________\n",
            "Layer (type)                 Output Shape              Param #   \n",
            "=================================================================\n",
            "dense_3 (Dense)              (None, 64)                640       \n",
            "_________________________________________________________________\n",
            "dense_4 (Dense)              (None, 32)                2080      \n",
            "_________________________________________________________________\n",
            "dense_5 (Dense)              (None, 1)                 33        \n",
            "=================================================================\n",
            "Total params: 2,753\n",
            "Trainable params: 2,753\n",
            "Non-trainable params: 0\n",
            "_________________________________________________________________\n"
          ]
        }
      ],
      "source": [
        "model.summary()"
      ]
    },
    {
      "cell_type": "code",
      "execution_count": 58,
      "metadata": {
        "id": "BHERl9jsuHoB"
      },
      "outputs": [],
      "source": [
        "model.compile(optimizer=tf.keras.optimizers.Adam(0.1),loss=tf.keras.losses.MeanSquaredError(),metrics=[tf.keras.metrics.RootMeanSquaredError()])"
      ]
    },
    {
      "cell_type": "code",
      "execution_count": 59,
      "metadata": {},
      "outputs": [],
      "source": [
        "# Define callback functions\n",
        "checkpoint = ModelCheckpoint('best_model.{epoch:02d}-{val_loss:.2f}.h5', monitor='val_loss', save_best_only=True, verbose=1)\n",
        "early_stopping = EarlyStopping(monitor='val_loss', patience=10, verbose=1)\n",
        "def scheduler(epoch, lr):\n",
        "    # Define learning rate scheduler function\n",
        "    if epoch < 50:\n",
        "        return lr\n",
        "    else:\n",
        "        return lr * 0.1\n",
        "lr_scheduler = LearningRateScheduler(scheduler, verbose=1)"
      ]
    },
    {
      "cell_type": "code",
      "execution_count": 60,
      "metadata": {
        "colab": {
          "base_uri": "https://localhost:8080/"
        },
        "id": "71Wo-Psxvqju",
        "outputId": "ca262a6b-1b88-4c60-9b3a-24f3135af71b"
      },
      "outputs": [
        {
          "name": "stdout",
          "output_type": "stream",
          "text": [
            "\n",
            "Epoch 00001: LearningRateScheduler reducing learning rate to 0.10000000149011612.\n",
            "Epoch 1/100\n",
            "587/591 [============================>.] - ETA: 0s - loss: 287.4823 - root_mean_squared_error: 16.9553\n",
            "Epoch 00001: val_loss improved from inf to 206.39902, saving model to best_model.01-206.40.h5\n",
            "591/591 [==============================] - 2s 3ms/step - loss: 287.1456 - root_mean_squared_error: 16.9454 - val_loss: 206.3990 - val_root_mean_squared_error: 14.3666\n",
            "\n",
            "Epoch 00002: LearningRateScheduler reducing learning rate to 0.10000000149011612.\n",
            "Epoch 2/100\n",
            "590/591 [============================>.] - ETA: 0s - loss: 222.3145 - root_mean_squared_error: 14.9102\n",
            "Epoch 00002: val_loss did not improve from 206.39902\n",
            "591/591 [==============================] - 2s 4ms/step - loss: 222.3064 - root_mean_squared_error: 14.9099 - val_loss: 209.4920 - val_root_mean_squared_error: 14.4738\n",
            "\n",
            "Epoch 00003: LearningRateScheduler reducing learning rate to 0.10000000149011612.\n",
            "Epoch 3/100\n",
            "582/591 [============================>.] - ETA: 0s - loss: 221.8415 - root_mean_squared_error: 14.8943\n",
            "Epoch 00003: val_loss did not improve from 206.39902\n",
            "591/591 [==============================] - 2s 4ms/step - loss: 222.3658 - root_mean_squared_error: 14.9119 - val_loss: 282.0820 - val_root_mean_squared_error: 16.7953\n",
            "\n",
            "Epoch 00004: LearningRateScheduler reducing learning rate to 0.10000000149011612.\n",
            "Epoch 4/100\n",
            "586/591 [============================>.] - ETA: 0s - loss: 216.7386 - root_mean_squared_error: 14.7220\n",
            "Epoch 00004: val_loss improved from 206.39902 to 204.40489, saving model to best_model.04-204.40.h5\n",
            "591/591 [==============================] - 2s 4ms/step - loss: 216.6965 - root_mean_squared_error: 14.7206 - val_loss: 204.4049 - val_root_mean_squared_error: 14.2970\n",
            "\n",
            "Epoch 00005: LearningRateScheduler reducing learning rate to 0.10000000149011612.\n",
            "Epoch 5/100\n",
            "591/591 [==============================] - ETA: 0s - loss: 212.1381 - root_mean_squared_error: 14.5650\n",
            "Epoch 00005: val_loss improved from 204.40489 to 204.29115, saving model to best_model.05-204.29.h5\n",
            "591/591 [==============================] - 2s 4ms/step - loss: 212.1381 - root_mean_squared_error: 14.5650 - val_loss: 204.2912 - val_root_mean_squared_error: 14.2930\n",
            "\n",
            "Epoch 00006: LearningRateScheduler reducing learning rate to 0.10000000149011612.\n",
            "Epoch 6/100\n",
            "576/591 [============================>.] - ETA: 0s - loss: 214.3156 - root_mean_squared_error: 14.6395\n",
            "Epoch 00006: val_loss improved from 204.29115 to 203.51299, saving model to best_model.06-203.51.h5\n",
            "591/591 [==============================] - 2s 3ms/step - loss: 213.6121 - root_mean_squared_error: 14.6155 - val_loss: 203.5130 - val_root_mean_squared_error: 14.2658\n",
            "\n",
            "Epoch 00007: LearningRateScheduler reducing learning rate to 0.10000000149011612.\n",
            "Epoch 7/100\n",
            "579/591 [============================>.] - ETA: 0s - loss: 213.4377 - root_mean_squared_error: 14.6095\n",
            "Epoch 00007: val_loss did not improve from 203.51299\n",
            "591/591 [==============================] - 2s 3ms/step - loss: 213.5987 - root_mean_squared_error: 14.6150 - val_loss: 213.6534 - val_root_mean_squared_error: 14.6169\n",
            "\n",
            "Epoch 00008: LearningRateScheduler reducing learning rate to 0.10000000149011612.\n",
            "Epoch 8/100\n",
            "588/591 [============================>.] - ETA: 0s - loss: 213.9785 - root_mean_squared_error: 14.6280\n",
            "Epoch 00008: val_loss did not improve from 203.51299\n",
            "591/591 [==============================] - 2s 3ms/step - loss: 213.9409 - root_mean_squared_error: 14.6267 - val_loss: 208.9706 - val_root_mean_squared_error: 14.4558\n",
            "\n",
            "Epoch 00009: LearningRateScheduler reducing learning rate to 0.10000000149011612.\n",
            "Epoch 9/100\n",
            "585/591 [============================>.] - ETA: 0s - loss: 213.7786 - root_mean_squared_error: 14.6212\n",
            "Epoch 00009: val_loss did not improve from 203.51299\n",
            "591/591 [==============================] - 2s 3ms/step - loss: 213.8797 - root_mean_squared_error: 14.6246 - val_loss: 210.9626 - val_root_mean_squared_error: 14.5246\n",
            "\n",
            "Epoch 00010: LearningRateScheduler reducing learning rate to 0.10000000149011612.\n",
            "Epoch 10/100\n",
            "590/591 [============================>.] - ETA: 0s - loss: 215.2250 - root_mean_squared_error: 14.6705\n",
            "Epoch 00010: val_loss did not improve from 203.51299\n",
            "591/591 [==============================] - 2s 3ms/step - loss: 215.2377 - root_mean_squared_error: 14.6710 - val_loss: 221.4000 - val_root_mean_squared_error: 14.8795\n",
            "\n",
            "Epoch 00011: LearningRateScheduler reducing learning rate to 0.10000000149011612.\n",
            "Epoch 11/100\n",
            "574/591 [============================>.] - ETA: 0s - loss: 215.6881 - root_mean_squared_error: 14.6863\n",
            "Epoch 00011: val_loss did not improve from 203.51299\n",
            "591/591 [==============================] - 2s 3ms/step - loss: 215.3662 - root_mean_squared_error: 14.6754 - val_loss: 204.3954 - val_root_mean_squared_error: 14.2967\n",
            "\n",
            "Epoch 00012: LearningRateScheduler reducing learning rate to 0.10000000149011612.\n",
            "Epoch 12/100\n",
            "585/591 [============================>.] - ETA: 0s - loss: 212.9194 - root_mean_squared_error: 14.5918\n",
            "Epoch 00012: val_loss did not improve from 203.51299\n",
            "591/591 [==============================] - 2s 3ms/step - loss: 212.8716 - root_mean_squared_error: 14.5901 - val_loss: 217.6158 - val_root_mean_squared_error: 14.7518\n",
            "\n",
            "Epoch 00013: LearningRateScheduler reducing learning rate to 0.10000000149011612.\n",
            "Epoch 13/100\n",
            "572/591 [============================>.] - ETA: 0s - loss: 220.6573 - root_mean_squared_error: 14.8545\n",
            "Epoch 00013: val_loss did not improve from 203.51299\n",
            "591/591 [==============================] - 2s 3ms/step - loss: 220.8907 - root_mean_squared_error: 14.8624 - val_loss: 216.3387 - val_root_mean_squared_error: 14.7085\n",
            "\n",
            "Epoch 00014: LearningRateScheduler reducing learning rate to 0.10000000149011612.\n",
            "Epoch 14/100\n",
            "575/591 [============================>.] - ETA: 0s - loss: 220.2620 - root_mean_squared_error: 14.8412\n",
            "Epoch 00014: val_loss did not improve from 203.51299\n",
            "591/591 [==============================] - 2s 3ms/step - loss: 220.1451 - root_mean_squared_error: 14.8373 - val_loss: 213.9313 - val_root_mean_squared_error: 14.6264\n",
            "\n",
            "Epoch 00015: LearningRateScheduler reducing learning rate to 0.10000000149011612.\n",
            "Epoch 15/100\n",
            "588/591 [============================>.] - ETA: 0s - loss: 220.0410 - root_mean_squared_error: 14.8338\n",
            "Epoch 00015: val_loss did not improve from 203.51299\n",
            "591/591 [==============================] - 2s 3ms/step - loss: 219.9914 - root_mean_squared_error: 14.8321 - val_loss: 218.3748 - val_root_mean_squared_error: 14.7775\n",
            "\n",
            "Epoch 00016: LearningRateScheduler reducing learning rate to 0.10000000149011612.\n",
            "Epoch 16/100\n",
            "578/591 [============================>.] - ETA: 0s - loss: 220.4808 - root_mean_squared_error: 14.8486\n",
            "Epoch 00016: val_loss did not improve from 203.51299\n",
            "591/591 [==============================] - 2s 3ms/step - loss: 220.1309 - root_mean_squared_error: 14.8368 - val_loss: 212.9460 - val_root_mean_squared_error: 14.5927\n",
            "Epoch 00016: early stopping\n"
          ]
        }
      ],
      "source": [
        "learning = model.fit(X_train, y_train, epochs=100, batch_size=32, verbose=True,\n",
        "                    validation_data=(X_test, y_test), callbacks=[checkpoint, early_stopping, lr_scheduler])"
      ]
    },
    {
      "cell_type": "code",
      "execution_count": 61,
      "metadata": {},
      "outputs": [
        {
          "name": "stdout",
          "output_type": "stream",
          "text": [
            "Mean Squared Error: 212.9460\n"
          ]
        }
      ],
      "source": [
        "from sklearn.metrics import mean_squared_error\n",
        "\n",
        "y_pred = model.predict(X_test)\n",
        "mse = mean_squared_error(y_test, y_pred)\n",
        "\n",
        "# Print the mean squared error\n",
        "print(f\"Mean Squared Error: {mse:.4f}\")"
      ]
    },
    {
      "cell_type": "code",
      "execution_count": 62,
      "metadata": {
        "id": "QLLtn7gEyNIE"
      },
      "outputs": [],
      "source": [
        "import matplotlib.pyplot as plt"
      ]
    },
    {
      "cell_type": "code",
      "execution_count": 63,
      "metadata": {
        "id": "hcyJPqaAwmXP"
      },
      "outputs": [],
      "source": [
        "def plot(learning):\n",
        "  plt.plot(learning.history['loss'])\n",
        "  plt.xlabel(\"epochs\")\n",
        "  plt.ylabel(\"Cost\")\n",
        "\n",
        "  plt.show()\n"
      ]
    },
    {
      "cell_type": "code",
      "execution_count": 64,
      "metadata": {
        "colab": {
          "base_uri": "https://localhost:8080/",
          "height": 449
        },
        "id": "qXR14ENhyfIE",
        "outputId": "e3d3d94e-db7a-4469-a374-b57593c14997"
      },
      "outputs": [
        {
          "data": {
            "image/png": "[encoded data removed]",
            "text/plain": [
              "<Figure size 432x288 with 1 Axes>"
            ]
          },
          "metadata": {
            "needs_background": "light"
          },
          "output_type": "display_data"
        }
      ],
      "source": [
        "plot(learning)"
      ]
    },
    {
      "cell_type": "code",
      "execution_count": 65,
      "metadata": {
        "colab": {
          "base_uri": "https://localhost:8080/"
        },
        "id": "EX9x_DITjcsx",
        "outputId": "e79df952-a11f-4b22-fbc5-dcbc34aef2b4"
      },
      "outputs": [
        {
          "data": {
            "text/plain": [
              "[<tf.Variable 'dense_3/kernel:0' shape=(9, 64) dtype=float32, numpy=\n",
              " array([[-6.96983486e-02, -4.66652006e-01,  2.50819087e-01,\n",
              "         -4.03178632e-01, -2.01007053e-01, -5.44434309e-01,\n",
              "         -8.10218513e-01, -4.15979028e-01, -5.64948142e-01,\n",
              "         -5.80097139e-01, -8.81188810e-01,  1.84626937e-01,\n",
              "         -3.67763191e-01, -2.19940126e-01, -2.55165637e-01,\n",
              "         -7.64534354e-01,  1.19019084e-01, -1.98470503e-01,\n",
              "         -3.66578281e-01, -5.65478802e-01, -8.19266737e-01,\n",
              "         -1.79027900e-01, -6.44648969e-01, -8.60403657e-01,\n",
              "         -5.05969226e-01, -2.06630766e-01, -7.18178213e-01,\n",
              "         -8.81597042e-01, -3.73193860e-01, -9.88935947e-01,\n",
              "         -5.78256071e-01, -6.08838916e-01, -3.82609338e-01,\n",
              "         -5.34768462e-01, -7.16523170e-01, -7.19237387e-01,\n",
              "         -7.58819759e-01, -4.29701596e-01, -6.58414885e-02,\n",
              "         -2.07177121e-02, -4.19760376e-01, -7.55376577e-01,\n",
              "         -4.77958381e-01, -1.61530957e-01, -2.24095643e-01,\n",
              "         -5.77447951e-01, -1.67566612e-01, -5.93755618e-02,\n",
              "         -1.23214507e+00, -7.88553238e-01, -7.57875741e-01,\n",
              "         -6.06311619e-01, -1.48182273e+00, -2.90978837e+00,\n",
              "         -4.51565683e-01, -3.49329859e-02, -6.58448696e-01,\n",
              "         -3.83788049e-01, -9.52116847e-02, -3.68739694e-01,\n",
              "         -7.34643579e-01,  8.60094056e-02, -4.99294847e-01,\n",
              "         -3.26561761e+00],\n",
              "        [-8.48363817e-01, -4.27402198e-01, -2.53309220e-01,\n",
              "         -7.41140544e-01, -5.91233261e-02, -7.85942793e-01,\n",
              "         -1.61140990e+00, -1.88170895e-01, -5.26693702e-01,\n",
              "         -4.61410493e-01, -4.22630310e-01, -6.34572554e+00,\n",
              "          3.57482135e-02, -5.39431036e-01, -2.62180179e-01,\n",
              "         -4.01415616e-01, -8.55642557e-02, -4.80297893e-01,\n",
              "         -2.55756587e-01, -1.19896829e+00, -7.78501034e-01,\n",
              "         -4.19610292e-01, -4.46924984e-01, -4.13029939e-01,\n",
              "         -5.55936456e-01, -8.91140103e-01, -5.81810951e-01,\n",
              "         -2.72814363e-01, -4.82585073e-01, -7.58591145e-02,\n",
              "         -4.01977748e-01, -4.78785068e-01, -2.59180248e-01,\n",
              "         -2.96231031e-01, -7.41430700e-01, -3.68374228e-01,\n",
              "         -5.75402975e-01, -5.51842928e-01, -3.49659264e-01,\n",
              "         -3.58117342e-01, -4.04801548e-01, -4.97591048e-01,\n",
              "         -8.47350240e-01, -5.84234357e-01, -6.50650918e-01,\n",
              "         -2.57156342e-01, -4.17977065e-01, -4.55917627e-01,\n",
              "         -1.25789747e-01, -2.62992501e-01, -4.36103433e-01,\n",
              "         -7.55937934e-01, -7.43228674e-01, -1.79005659e+00,\n",
              "          4.20020372e-02, -4.18857843e-01, -5.33133447e-01,\n",
              "         -8.33610356e-01, -3.71581167e-01, -1.68640345e-01,\n",
              "         -8.14486682e-01, -4.62006569e+00, -8.84976268e-01,\n",
              "          5.20457745e-01],\n",
              "        [-3.40194046e-01, -2.62667447e-01, -8.71400908e-02,\n",
              "         -2.51952231e-01,  9.21548232e-02, -4.98824678e-02,\n",
              "         -7.09118426e-01, -4.42042559e-01, -6.31250679e-01,\n",
              "         -1.62949279e-01, -5.95562041e-01, -2.57279545e-01,\n",
              "         -7.61236429e-01, -3.83859068e-01, -2.78545201e-01,\n",
              "         -7.87972808e-01, -5.57683001e-04, -3.71987879e-01,\n",
              "         -4.45171475e-01, -3.60801309e-01, -4.86501545e-01,\n",
              "         -2.98962921e-01, -2.41939172e-01, -3.54025543e-01,\n",
              "         -6.77873790e-01, -5.39210916e-01, -5.11150897e-01,\n",
              "         -5.00512719e-01,  1.12627158e-02, -1.17459260e-01,\n",
              "         -7.96049476e-01, -5.20902038e-01, -5.13105094e-01,\n",
              "         -3.70024055e-01, -8.01725030e-01, -8.22579503e-01,\n",
              "         -3.76982808e-01, -3.98949921e-01, -4.88657027e-01,\n",
              "          2.29715705e-02, -1.85186088e-01, -7.82442689e-01,\n",
              "         -2.17295364e-01, -2.33793840e-01, -4.98662084e-01,\n",
              "         -1.63854510e-01, -4.64554638e-01, -1.56022102e-01,\n",
              "         -3.95931989e-01, -3.95060986e-01, -3.39662552e-01,\n",
              "         -6.24280751e-01, -8.28597546e-01, -3.79871488e-01,\n",
              "         -3.59246194e-01, -1.55572429e-01, -3.83968890e-01,\n",
              "         -3.44236612e-01,  9.48886294e-03, -3.22571069e-01,\n",
              "         -8.76477599e-01, -3.65812182e+00, -7.56693661e-01,\n",
              "         -7.49151647e-01],\n",
              "        [ 1.15476668e-01, -1.46943167e-01, -1.81647968e+00,\n",
              "         -4.60468084e-02, -4.09484178e-01, -3.56386572e-01,\n",
              "         -4.06547248e-01, -1.37684450e-01, -4.66470659e-01,\n",
              "         -6.62198141e-02, -5.10983288e-01, -8.04486349e-02,\n",
              "         -8.50421041e-02, -5.82677573e-02,  3.74216735e-02,\n",
              "         -6.63888931e-01, -1.40906991e-02,  7.07725883e-02,\n",
              "         -1.69053867e-01, -3.66699308e-01, -3.62517983e-01,\n",
              "         -1.92663640e-01,  3.35638821e-02, -3.80523592e-01,\n",
              "         -8.38835835e-01,  7.99494982e-02, -5.10559618e-01,\n",
              "         -8.23722035e-02,  1.53301312e-02, -5.48992455e-01,\n",
              "         -6.48574948e-01, -5.27260125e-01,  2.66801208e-01,\n",
              "          6.67669773e-02, -6.00304306e-01, -5.33197582e-01,\n",
              "         -4.78152037e-01, -6.59168184e-01, -4.28546935e-01,\n",
              "         -1.79610103e-01, -9.18631405e-02, -1.28648534e-01,\n",
              "         -4.74921316e-02,  1.10408753e-01, -2.34370217e-01,\n",
              "         -4.37839061e-01, -5.95934270e-03, -4.60488617e-01,\n",
              "         -6.75806880e-01, -1.44120604e-02,  1.22480996e-01,\n",
              "         -1.39610767e-01, -5.36157846e-01, -5.09153247e-01,\n",
              "          6.00622483e-02, -2.70024925e-01, -2.62871683e-01,\n",
              "         -4.00809795e-01, -2.19719619e-01, -5.11297137e-02,\n",
              "          7.96719372e-01, -2.55706072e-01, -2.20606074e-01,\n",
              "         -2.11768103e+00],\n",
              "        [-1.70453250e-01, -4.51027036e-01, -1.06457822e-01,\n",
              "         -6.16877675e-01, -6.90046176e-02, -6.83691949e-02,\n",
              "          4.84175265e-01, -4.28618163e-01, -7.79434919e-01,\n",
              "          1.13197438e-01,  4.27814513e-01, -4.76225042e+00,\n",
              "         -8.72182131e-01, -2.52559483e-01, -2.10550740e-01,\n",
              "         -4.58981007e-01, -1.37404472e-01, -2.59266980e-02,\n",
              "         -4.57975894e-01,  3.25904965e-01, -7.04095423e-01,\n",
              "         -4.04904813e-01, -6.74610257e-01, -5.52104890e-01,\n",
              "         -6.32541418e-01, -6.52384162e-02, -7.10385203e-01,\n",
              "         -4.51953471e-01, -2.13385075e-01,  3.31731111e-01,\n",
              "         -6.50263131e-01, -6.40297830e-01, -5.24685740e-01,\n",
              "         -3.15226376e-01, -5.78792751e-01, -7.04287887e-01,\n",
              "         -6.29752457e-01, -8.13961744e-01, -2.41873309e-01,\n",
              "         -1.14305831e-01, -1.21450610e-01, -8.74583840e-01,\n",
              "         -1.17464019e-02, -2.97047526e-01, -7.30302632e-01,\n",
              "          1.04577787e-01, -3.54796313e-02,  9.17640477e-02,\n",
              "          3.94559860e-01, -7.90883303e-01, -2.36010462e-01,\n",
              "         -3.48662317e-01,  2.40514517e-01, -1.74884275e-01,\n",
              "         -1.52414411e-01, -3.43214333e-01, -5.36649644e-01,\n",
              "         -5.57875812e-01, -1.15169980e-01, -3.87094349e-01,\n",
              "         -1.38241303e+00, -1.07867396e+00, -4.76866573e-01,\n",
              "         -1.26819462e-01],\n",
              "        [-2.56077260e-01, -5.87836325e-01, -1.73537359e-01,\n",
              "         -6.96882367e-01, -2.96375970e-03, -4.86572593e-01,\n",
              "         -5.56760252e-01, -5.84520757e-01, -4.71572995e-01,\n",
              "         -4.63240266e-01, -3.03757995e-01, -1.05925608e+00,\n",
              "         -7.83149004e-01, -1.70187250e-01,  1.15667522e-01,\n",
              "         -5.48923731e-01, -2.49148369e-01,  3.45650055e-02,\n",
              "         -6.60079002e-01, -3.38383526e-01, -3.13278973e-01,\n",
              "         -2.26619601e-01, -1.04893103e-01, -6.60675406e-01,\n",
              "         -4.62375343e-01, -2.41215721e-01, -6.60184920e-01,\n",
              "         -7.71575689e-01, -4.58650053e-01, -2.97701418e-01,\n",
              "         -7.56983638e-01, -4.93512779e-01, -6.81005180e-01,\n",
              "         -6.24093533e-01, -4.38812762e-01, -7.62422383e-01,\n",
              "         -3.22016716e-01, -3.27726305e-01, -2.97154635e-01,\n",
              "         -3.24984223e-01, -3.45260561e-01, -6.41565263e-01,\n",
              "         -2.39603177e-01, -1.09373040e-01, -5.93208194e-01,\n",
              "          1.33373903e-03, -4.45228577e-01, -4.22187150e-01,\n",
              "         -7.72190928e-01, -7.11113453e-01, -7.50905216e-01,\n",
              "         -4.91963804e-01, -8.05153012e-01, -1.32266080e+00,\n",
              "         -2.98171312e-01, -3.93327028e-01, -6.56219661e-01,\n",
              "         -7.53975511e-01, -8.94043371e-02, -7.24740088e-01,\n",
              "         -1.68336499e+00, -3.00040221e+00, -3.47145259e-01,\n",
              "         -1.55108583e+00],\n",
              "        [-2.40069315e-01, -2.39320174e-01, -1.15334652e-01,\n",
              "         -4.23905671e-01, -1.00659437e-01, -5.57648242e-01,\n",
              "         -6.92074358e-01, -4.37344611e-01, -6.17334247e-01,\n",
              "         -5.87941587e-01, -7.20993161e-01, -1.70948946e+00,\n",
              "         -7.94597685e-01, -3.17193687e-01, -9.39822793e-02,\n",
              "         -4.88708138e-01, -4.09954339e-02, -3.10916156e-01,\n",
              "         -2.74380505e-01, -2.21861944e-01, -8.79074156e-01,\n",
              "         -6.05239391e-01,  4.25502360e-02, -5.16268492e-01,\n",
              "         -3.52905691e-01, -2.57503480e-01, -8.53615642e-01,\n",
              "         -2.21839666e-01, -2.04941556e-01, -8.38183761e-01,\n",
              "         -8.73720825e-01, -6.64625764e-01, -4.41462457e-01,\n",
              "         -5.54672837e-01, -3.43988299e-01, -7.13115513e-01,\n",
              "         -7.26235032e-01, -3.15520525e-01, -1.90946475e-01,\n",
              "         -2.30491564e-01, -4.15409394e-02, -4.72872406e-01,\n",
              "         -4.49657977e-01, -5.28663099e-01, -5.12617290e-01,\n",
              "         -7.63329029e-01, -3.20847094e-01,  4.67122085e-02,\n",
              "         -9.62498724e-01, -6.96428418e-01, -4.54549611e-01,\n",
              "         -4.87786502e-01, -1.31369376e+00, -2.00756264e+00,\n",
              "         -3.44815969e-01, -1.57277405e-01, -3.55392814e-01,\n",
              "         -7.95368850e-01, -2.19846562e-01, -8.42988372e-01,\n",
              "         -2.02094746e+00, -3.43493372e-01, -7.25964725e-01,\n",
              "         -1.43611515e+00],\n",
              "        [-4.67632473e-01, -1.46675944e-01, -6.28226623e-02,\n",
              "         -4.19697523e-01, -3.95680755e-01, -1.73383635e-02,\n",
              "          1.44579396e-01, -5.55050850e-01, -4.84220177e-01,\n",
              "         -3.72125983e-01, -1.07416280e-01,  1.79469585e+00,\n",
              "         -7.34129727e-01, -3.29368293e-01, -1.32488161e-01,\n",
              "         -5.49822688e-01,  4.59791385e-02,  9.36216712e-02,\n",
              "         -2.56053984e-01, -3.55750978e-01, -5.15374541e-01,\n",
              "         -5.12944400e-01, -1.78438336e-01, -3.64723742e-01,\n",
              "         -5.27900755e-01, -3.53154659e-01, -6.76557958e-01,\n",
              "         -6.91354632e-01, -3.09668869e-01, -6.64532304e-01,\n",
              "         -3.54658484e-01, -4.19312328e-01, -8.60743165e-01,\n",
              "         -3.03077161e-01, -4.20868248e-01, -8.85803342e-01,\n",
              "         -8.03128302e-01, -7.13975251e-01,  4.61952239e-02,\n",
              "         -3.56415957e-02, -4.14991558e-01, -4.68070924e-01,\n",
              "         -2.86757380e-01, -1.81800336e-01, -2.16798067e-01,\n",
              "         -3.65595311e-01, -3.15653980e-01, -2.20632270e-01,\n",
              "         -5.98914325e-01, -3.13881636e-01, -1.24440789e-01,\n",
              "         -5.27425170e-01, -5.09712160e-01, -8.48125696e-01,\n",
              "         -2.06711739e-01, -1.50961369e-01, -3.25924188e-01,\n",
              "         -3.31691593e-01, -3.61708313e-01, -4.44436997e-01,\n",
              "         -2.51620436e+00, -1.20257087e-01, -8.12720060e-01,\n",
              "         -1.27712095e+00],\n",
              "        [-6.21698022e-01, -5.70892155e-01, -6.98850274e-01,\n",
              "         -1.97315753e-01, -1.40988544e-01, -4.99531150e-01,\n",
              "         -3.70235592e-01, -2.81973556e-03, -5.98382175e-01,\n",
              "         -3.26511145e-01, -3.51683348e-01, -1.26020181e+00,\n",
              "         -5.30080259e-01, -8.45972538e-01, -1.11491248e-01,\n",
              "         -6.60775602e-01, -5.37964940e-01, -4.78947699e-01,\n",
              "         -5.75402260e-01, -3.43416125e-01, -3.83983731e-01,\n",
              "         -7.87702858e-01, -1.08554661e-02, -7.93293059e-01,\n",
              "         -7.08139062e-01, -5.43697119e-01, -4.97913629e-01,\n",
              "         -6.74093127e-01, -9.28404555e-02, -3.28152090e-01,\n",
              "         -3.35029036e-01, -7.04950094e-01, -2.67603517e-01,\n",
              "         -8.29912663e-01, -3.48940194e-01, -3.19531024e-01,\n",
              "         -7.03809500e-01, -6.48323834e-01, -6.99973583e-01,\n",
              "         -4.31189388e-02, -3.20639312e-02, -9.62360650e-02,\n",
              "         -8.73185217e-01, -5.65789819e-01, -5.98016500e-01,\n",
              "         -2.42370248e-01, -1.50642723e-01, -4.88238186e-02,\n",
              "         -5.38260043e-01, -5.53631365e-01, -5.53319812e-01,\n",
              "         -6.78190053e-01, -5.57826698e-01, -1.03993821e+00,\n",
              "         -3.08066726e-01, -1.40187383e-01, -7.59067357e-01,\n",
              "         -5.43783665e-01, -6.74995422e-01, -6.66266918e-01,\n",
              "         -1.79708135e+00, -1.93748522e+00, -5.99184573e-01,\n",
              "         -5.99045992e-01]], dtype=float32)>,\n",
              " <tf.Variable 'dense_3/bias:0' shape=(64,) dtype=float32, numpy=\n",
              " array([-0.27423334, -0.5162288 , -0.35212874, -0.33340362, -0.1309499 ,\n",
              "        -0.26560706,  0.5483491 , -0.4879453 , -0.7020495 ,  0.51198125,\n",
              "         0.6193729 , -2.0964477 , -0.6005487 , -0.2650359 ,  0.        ,\n",
              "        -0.614146  , -0.11108766, -0.12817964, -0.33681932,  0.27178508,\n",
              "        -0.5816706 , -0.3533211 , -0.5131054 , -0.60054994, -0.63286084,\n",
              "        -0.2580771 , -0.60055417, -0.5507551 , -0.24921836,  0.44246352,\n",
              "        -0.62034035, -0.6634442 , -0.60055256, -0.3280699 , -0.555543  ,\n",
              "        -0.60055506, -0.60055506, -0.582854  , -0.21160923, -0.07787242,\n",
              "        -0.1537076 , -0.60055196, -0.25969708, -0.21616215, -0.44928133,\n",
              "         0.23089772, -0.23127164, -0.07758449,  0.59975296, -0.5171302 ,\n",
              "        -0.32740167, -0.6005551 ,  1.828441  ,  2.303514  , -0.24064234,\n",
              "        -0.1821598 , -0.5792014 , -0.6005547 , -0.20080619, -0.60055447,\n",
              "        -1.3629819 , -0.32008794, -0.60055184,  0.06628646], dtype=float32)>,\n",
              " <tf.Variable 'dense_4/kernel:0' shape=(64, 32) dtype=float32, numpy=\n",
              " array([[-0.7442206 , -0.22058505, -0.41281494, ...,  0.05404085,\n",
              "         -0.30550778, -0.11520189],\n",
              "        [-0.79293305, -0.8171732 , -0.17439055, ...,  0.24140859,\n",
              "         -0.33196846, -0.20969637],\n",
              "        [-0.41677395, -0.74593204, -0.47438893, ..., -0.0446372 ,\n",
              "          0.03881766, -0.6355999 ],\n",
              "        ...,\n",
              "        [-0.67331904, -0.5566693 , -0.45269808, ..., -0.10799885,\n",
              "         -0.40780464, -0.3707578 ],\n",
              "        [-0.53222126, -0.81364226,  0.02327096, ...,  0.11593109,\n",
              "          0.58508784,  0.5448439 ],\n",
              "        [-0.77593696, -0.47945797, -0.03373915, ...,  0.10737538,\n",
              "          0.79169136, -0.11556029]], dtype=float32)>,\n",
              " <tf.Variable 'dense_4/bias:0' shape=(32,) dtype=float32, numpy=\n",
              " array([-6.0055512e-01, -6.0055447e-01, -5.5588812e-01, -7.2785944e-01,\n",
              "        -9.2889234e-02, -1.1499664e-02, -5.8876671e-04, -1.2234557e-01,\n",
              "        -1.5886949e-01,  7.9625428e-01, -6.0055512e-01, -6.0055518e-01,\n",
              "        -2.7102396e-01, -1.5421416e-01, -1.8477401e-01, -6.0055512e-01,\n",
              "        -5.0844282e-01, -1.3904761e-02, -1.6052252e-02, -6.0055447e-01,\n",
              "        -5.1614499e-01, -4.4185114e-01, -7.7107735e-02, -1.2300951e-01,\n",
              "        -3.5912020e+00, -6.0055512e-01, -6.0055500e-01, -6.0055512e-01,\n",
              "        -5.5587029e-01, -1.4058043e+00,  1.0679783e+01, -3.2298940e-01],\n",
              "       dtype=float32)>,\n",
              " <tf.Variable 'dense_5/kernel:0' shape=(32, 1) dtype=float32, numpy=\n",
              " array([[ 2.3494589e-01],\n",
              "        [ 2.7881724e-01],\n",
              "        [ 3.1135046e-01],\n",
              "        [ 3.1249291e-01],\n",
              "        [ 7.9635039e-02],\n",
              "        [ 5.8710719e-03],\n",
              "        [ 1.1891224e-04],\n",
              "        [-1.7753035e-01],\n",
              "        [-6.7059040e-02],\n",
              "        [ 2.6187000e-01],\n",
              "        [ 3.0726260e-01],\n",
              "        [ 1.8067636e-01],\n",
              "        [-2.2326036e-01],\n",
              "        [-1.9342822e-01],\n",
              "        [-1.5708320e-01],\n",
              "        [ 4.3826923e-01],\n",
              "        [-1.4843087e-01],\n",
              "        [ 2.8185360e-03],\n",
              "        [-1.3468809e-01],\n",
              "        [ 1.9708107e-01],\n",
              "        [ 2.5047293e-01],\n",
              "        [ 5.2992594e-03],\n",
              "        [-1.7320167e-01],\n",
              "        [-1.6400099e-01],\n",
              "        [ 4.0070334e-01],\n",
              "        [ 4.3249318e-01],\n",
              "        [ 5.3080183e-01],\n",
              "        [ 2.3426922e-01],\n",
              "        [ 7.7082348e-01],\n",
              "        [ 1.0502276e+00],\n",
              "        [ 2.2102249e+00],\n",
              "        [-4.6942240e-01]], dtype=float32)>,\n",
              " <tf.Variable 'dense_5/bias:0' shape=(1,) dtype=float32, numpy=array([23.837023], dtype=float32)>]"
            ]
          },
          "execution_count": 65,
          "metadata": {},
          "output_type": "execute_result"
        }
      ],
      "source": [
        "model.weights"
      ]
    },
    {
      "cell_type": "code",
      "execution_count": 66,
      "metadata": {
        "colab": {
          "base_uri": "https://localhost:8080/"
        },
        "id": "MjuHLl6esYkT",
        "outputId": "ead0ed5f-4e41-45e5-ad69-d4804055621c"
      },
      "outputs": [
        {
          "data": {
            "text/plain": [
              "array([[47.65026],\n",
              "       [47.65026],\n",
              "       [47.65026],\n",
              "       ...,\n",
              "       [47.65026],\n",
              "       [47.65026],\n",
              "       [47.65026]], dtype=float32)"
            ]
          },
          "execution_count": 66,
          "metadata": {},
          "output_type": "execute_result"
        }
      ],
      "source": [
        "model.predict(X_test)"
      ]
    },
    {
      "cell_type": "code",
      "execution_count": 67,
      "metadata": {
        "id": "BLqEiXPIs84b"
      },
      "outputs": [],
      "source": [
        "jsonfile=model.to_json()\n",
        "with open (\"model.json\",\"w\") as f:\n",
        "  f.write(jsonfile)\n",
        "\n",
        "model.save(\"model.h5\")"
      ]
    },
    {
      "cell_type": "code",
      "execution_count": 70,
      "metadata": {},
      "outputs": [],
      "source": [
        "from sklearn.preprocessing import StandardScaler\n",
        "scaler = StandardScaler()\n",
        "X_train = scaler.fit_transform(X_train)\n",
        "X_test = scaler.transform(X_test)"
      ]
    },
    {
      "cell_type": "code",
      "execution_count": 72,
      "metadata": {},
      "outputs": [],
      "source": [
        "model2 = Sequential()\n",
        "model2.add(Dense(64, activation='relu', input_dim=x.shape[1]))\n",
        "model2.add(Dense(32, activation='relu'))\n",
        "model2.add(Dense(1))"
      ]
    },
    {
      "cell_type": "code",
      "execution_count": 74,
      "metadata": {},
      "outputs": [
        {
          "name": "stdout",
          "output_type": "stream",
          "text": [
            "Epoch 1/100\n",
            "296/296 [==============================] - 1s 3ms/step - loss: 1073.5278\n",
            "Epoch 2/100\n",
            "296/296 [==============================] - 1s 2ms/step - loss: 226.2665\n",
            "Epoch 3/100\n",
            "296/296 [==============================] - 1s 2ms/step - loss: 215.9386\n",
            "Epoch 4/100\n",
            "296/296 [==============================] - 1s 2ms/step - loss: 212.0518\n",
            "Epoch 5/100\n",
            "296/296 [==============================] - 1s 2ms/step - loss: 210.0043\n",
            "Epoch 6/100\n",
            "296/296 [==============================] - 1s 2ms/step - loss: 208.8994\n",
            "Epoch 7/100\n",
            "296/296 [==============================] - 1s 2ms/step - loss: 208.0073\n",
            "Epoch 8/100\n",
            "296/296 [==============================] - 1s 2ms/step - loss: 206.9519\n",
            "Epoch 9/100\n",
            "296/296 [==============================] - 1s 2ms/step - loss: 206.5444\n",
            "Epoch 10/100\n",
            "296/296 [==============================] - 1s 2ms/step - loss: 205.9798\n",
            "Epoch 11/100\n",
            "296/296 [==============================] - 1s 2ms/step - loss: 205.3939\n",
            "Epoch 12/100\n",
            "296/296 [==============================] - 1s 2ms/step - loss: 205.3592\n",
            "Epoch 13/100\n",
            "296/296 [==============================] - 1s 2ms/step - loss: 204.5120\n",
            "Epoch 14/100\n",
            "296/296 [==============================] - 1s 2ms/step - loss: 203.9293\n",
            "Epoch 15/100\n",
            "296/296 [==============================] - 1s 2ms/step - loss: 203.1004\n",
            "Epoch 16/100\n",
            "296/296 [==============================] - 1s 2ms/step - loss: 202.5656\n",
            "Epoch 17/100\n",
            "296/296 [==============================] - 1s 2ms/step - loss: 201.8857\n",
            "Epoch 18/100\n",
            "296/296 [==============================] - 1s 2ms/step - loss: 201.8318\n",
            "Epoch 19/100\n",
            "296/296 [==============================] - 1s 2ms/step - loss: 200.4341\n",
            "Epoch 20/100\n",
            "296/296 [==============================] - 1s 2ms/step - loss: 200.5569\n",
            "Epoch 21/100\n",
            "296/296 [==============================] - 1s 2ms/step - loss: 199.6769\n",
            "Epoch 22/100\n",
            "296/296 [==============================] - 1s 2ms/step - loss: 199.6438\n",
            "Epoch 23/100\n",
            "296/296 [==============================] - 1s 2ms/step - loss: 198.9943\n",
            "Epoch 24/100\n",
            "296/296 [==============================] - 1s 2ms/step - loss: 199.1163\n",
            "Epoch 25/100\n",
            "296/296 [==============================] - 1s 2ms/step - loss: 198.6850\n",
            "Epoch 26/100\n",
            "296/296 [==============================] - 1s 2ms/step - loss: 198.0649\n",
            "Epoch 27/100\n",
            "296/296 [==============================] - 1s 2ms/step - loss: 198.1781\n",
            "Epoch 28/100\n",
            "296/296 [==============================] - 1s 2ms/step - loss: 197.6280\n",
            "Epoch 29/100\n",
            "296/296 [==============================] - 1s 2ms/step - loss: 197.6200\n",
            "Epoch 30/100\n",
            "296/296 [==============================] - 1s 2ms/step - loss: 197.8112\n",
            "Epoch 31/100\n",
            "296/296 [==============================] - 1s 2ms/step - loss: 197.2762\n",
            "Epoch 32/100\n",
            "296/296 [==============================] - 1s 2ms/step - loss: 197.5541\n",
            "Epoch 33/100\n",
            "296/296 [==============================] - 1s 2ms/step - loss: 197.3409\n",
            "Epoch 34/100\n",
            "296/296 [==============================] - 1s 2ms/step - loss: 197.0431\n",
            "Epoch 35/100\n",
            "296/296 [==============================] - 1s 2ms/step - loss: 197.1474\n",
            "Epoch 36/100\n",
            "296/296 [==============================] - 1s 2ms/step - loss: 196.9927\n",
            "Epoch 37/100\n",
            "296/296 [==============================] - 1s 2ms/step - loss: 197.7320\n",
            "Epoch 38/100\n",
            "296/296 [==============================] - 1s 2ms/step - loss: 196.9968\n",
            "Epoch 39/100\n",
            "296/296 [==============================] - 1s 2ms/step - loss: 196.8830\n",
            "Epoch 40/100\n",
            "296/296 [==============================] - 1s 2ms/step - loss: 196.9955\n",
            "Epoch 41/100\n",
            "296/296 [==============================] - 1s 2ms/step - loss: 196.5559\n",
            "Epoch 42/100\n",
            "296/296 [==============================] - 1s 2ms/step - loss: 196.1474\n",
            "Epoch 43/100\n",
            "296/296 [==============================] - 1s 2ms/step - loss: 196.5058\n",
            "Epoch 44/100\n",
            "296/296 [==============================] - 1s 2ms/step - loss: 197.0166\n",
            "Epoch 45/100\n",
            "296/296 [==============================] - 1s 2ms/step - loss: 196.2770\n",
            "Epoch 46/100\n",
            "296/296 [==============================] - 1s 2ms/step - loss: 196.4185\n",
            "Epoch 47/100\n",
            "296/296 [==============================] - 1s 2ms/step - loss: 196.0901\n",
            "Epoch 48/100\n",
            "296/296 [==============================] - 1s 2ms/step - loss: 196.1504\n",
            "Epoch 49/100\n",
            "296/296 [==============================] - 1s 2ms/step - loss: 196.0135\n",
            "Epoch 50/100\n",
            "296/296 [==============================] - 1s 2ms/step - loss: 196.0198\n",
            "Epoch 51/100\n",
            "296/296 [==============================] - 1s 2ms/step - loss: 195.9997\n",
            "Epoch 52/100\n",
            "296/296 [==============================] - 1s 2ms/step - loss: 196.3006\n",
            "Epoch 53/100\n",
            "296/296 [==============================] - 1s 2ms/step - loss: 196.0320\n",
            "Epoch 54/100\n",
            "296/296 [==============================] - 1s 2ms/step - loss: 195.8527\n",
            "Epoch 55/100\n",
            "296/296 [==============================] - 1s 2ms/step - loss: 195.9250\n",
            "Epoch 56/100\n",
            "296/296 [==============================] - 1s 2ms/step - loss: 195.9376\n",
            "Epoch 57/100\n",
            "296/296 [==============================] - 1s 2ms/step - loss: 195.6826\n",
            "Epoch 58/100\n",
            "296/296 [==============================] - 1s 2ms/step - loss: 196.4916\n",
            "Epoch 59/100\n",
            "296/296 [==============================] - 1s 2ms/step - loss: 195.6080\n",
            "Epoch 60/100\n",
            "296/296 [==============================] - 1s 2ms/step - loss: 196.1549\n",
            "Epoch 61/100\n",
            "296/296 [==============================] - 1s 2ms/step - loss: 196.5978\n",
            "Epoch 62/100\n",
            "296/296 [==============================] - 1s 2ms/step - loss: 195.8601\n",
            "Epoch 63/100\n",
            "296/296 [==============================] - 1s 2ms/step - loss: 195.2664\n",
            "Epoch 64/100\n",
            "296/296 [==============================] - 1s 2ms/step - loss: 195.4728\n",
            "Epoch 65/100\n",
            "296/296 [==============================] - 1s 2ms/step - loss: 195.5824\n",
            "Epoch 66/100\n",
            "296/296 [==============================] - 1s 2ms/step - loss: 195.9588\n",
            "Epoch 67/100\n",
            "296/296 [==============================] - 1s 2ms/step - loss: 195.5695\n",
            "Epoch 68/100\n",
            "296/296 [==============================] - 1s 2ms/step - loss: 195.2546\n",
            "Epoch 69/100\n",
            "296/296 [==============================] - 1s 2ms/step - loss: 195.5592\n",
            "Epoch 70/100\n",
            "296/296 [==============================] - 1s 2ms/step - loss: 195.3907\n",
            "Epoch 71/100\n",
            "296/296 [==============================] - 1s 2ms/step - loss: 195.1656\n",
            "Epoch 72/100\n",
            "296/296 [==============================] - 1s 2ms/step - loss: 195.2100\n",
            "Epoch 73/100\n",
            "296/296 [==============================] - 1s 2ms/step - loss: 196.0015\n",
            "Epoch 74/100\n",
            "296/296 [==============================] - 1s 2ms/step - loss: 195.2909\n",
            "Epoch 75/100\n",
            "296/296 [==============================] - 1s 2ms/step - loss: 195.5400\n",
            "Epoch 76/100\n",
            "296/296 [==============================] - 1s 2ms/step - loss: 195.1351\n",
            "Epoch 77/100\n",
            "296/296 [==============================] - 1s 2ms/step - loss: 195.1721\n",
            "Epoch 78/100\n",
            "296/296 [==============================] - 1s 2ms/step - loss: 195.1849\n",
            "Epoch 79/100\n",
            "296/296 [==============================] - 1s 2ms/step - loss: 195.2516\n",
            "Epoch 80/100\n",
            "296/296 [==============================] - 1s 2ms/step - loss: 195.0139\n",
            "Epoch 81/100\n",
            "296/296 [==============================] - 1s 2ms/step - loss: 195.1200\n",
            "Epoch 82/100\n",
            "296/296 [==============================] - 1s 2ms/step - loss: 195.3484\n",
            "Epoch 83/100\n",
            "296/296 [==============================] - 1s 2ms/step - loss: 194.9949\n",
            "Epoch 84/100\n",
            "296/296 [==============================] - 1s 2ms/step - loss: 195.0357\n",
            "Epoch 85/100\n",
            "296/296 [==============================] - 1s 2ms/step - loss: 194.7303\n",
            "Epoch 86/100\n",
            "296/296 [==============================] - 1s 2ms/step - loss: 195.2844\n",
            "Epoch 87/100\n",
            "296/296 [==============================] - 1s 2ms/step - loss: 195.0932\n",
            "Epoch 88/100\n",
            "296/296 [==============================] - 1s 2ms/step - loss: 194.9219\n",
            "Epoch 89/100\n",
            "296/296 [==============================] - 1s 2ms/step - loss: 195.6178\n",
            "Epoch 90/100\n",
            "296/296 [==============================] - 1s 2ms/step - loss: 195.0102\n",
            "Epoch 91/100\n",
            "296/296 [==============================] - 1s 2ms/step - loss: 195.2091\n",
            "Epoch 92/100\n",
            "296/296 [==============================] - 1s 2ms/step - loss: 194.7538\n",
            "Epoch 93/100\n",
            "296/296 [==============================] - 1s 2ms/step - loss: 195.4601\n",
            "Epoch 94/100\n",
            "296/296 [==============================] - 1s 2ms/step - loss: 194.7978\n",
            "Epoch 95/100\n",
            "296/296 [==============================] - 1s 2ms/step - loss: 194.6446\n",
            "Epoch 96/100\n",
            "296/296 [==============================] - 1s 2ms/step - loss: 195.4450\n",
            "Epoch 97/100\n",
            "296/296 [==============================] - 1s 2ms/step - loss: 194.7459\n",
            "Epoch 98/100\n",
            "296/296 [==============================] - 1s 2ms/step - loss: 194.6472\n",
            "Epoch 99/100\n",
            "296/296 [==============================] - 1s 2ms/step - loss: 194.4594\n",
            "Epoch 100/100\n",
            "296/296 [==============================] - 1s 2ms/step - loss: 194.4660\n"
          ]
        },
        {
          "data": {
            "text/plain": [
              "<tensorflow.python.keras.callbacks.History at 0x1c8a27fe828>"
            ]
          },
          "execution_count": 74,
          "metadata": {},
          "output_type": "execute_result"
        }
      ],
      "source": [
        "model2.compile(optimizer='adam', loss='mean_squared_error')\n",
        "model2.fit(X_train, y_train, epochs=100, batch_size=64, verbose=1)\n"
      ]
    },
    {
      "cell_type": "code",
      "execution_count": 75,
      "metadata": {},
      "outputs": [],
      "source": [
        "y_pred = model2.predict(X_test)"
      ]
    },
    {
      "cell_type": "code",
      "execution_count": 76,
      "metadata": {},
      "outputs": [
        {
          "name": "stdout",
          "output_type": "stream",
          "text": [
            "Mean Squared Error (MSE): 191.77556935765304\n",
            "R-squared (R2) Score: 0.09713849341611613\n"
          ]
        }
      ],
      "source": [
        "mse = mean_squared_error(y_test, y_pred)\n",
        "r2 = r2_score(y_test, y_pred)\n",
        "\n",
        "# Print the evaluation metrics\n",
        "print(\"Mean Squared Error (MSE):\", mse)\n",
        "print(\"R-squared (R2) Score:\", r2)"
      ]
    },
    {
      "cell_type": "code",
      "execution_count": 77,
      "metadata": {},
      "outputs": [],
      "source": [
        "model2.save('scaled_model_191MSE.h5')"
      ]
    },
    {
      "cell_type": "code",
      "execution_count": 80,
      "metadata": {},
      "outputs": [
        {
          "data": {
            "text/plain": [
              "sex                       2.0\n",
              "highest_qualification     9.0\n",
              "rural                     2.0\n",
              "disability_status         7.0\n",
              "is_water_filter           2.0\n",
              "chew                      7.0\n",
              "smoke                     4.0\n",
              "alcohol                   4.0\n",
              "treatment_source         99.0\n",
              "dtype: float64"
            ]
          },
          "execution_count": 80,
          "metadata": {},
          "output_type": "execute_result"
        }
      ],
      "source": [
        "x.max()"
      ]
    },
    {
      "cell_type": "code",
      "execution_count": null,
      "metadata": {},
      "outputs": [],
      "source": []
    }
  ],
  "metadata": {
    "colab": {
      "provenance": []
    },
    "kernelspec": {
      "display_name": "Python 3",
      "name": "python3"
    },
    "language_info": {
      "codemirror_mode": {
        "name": "ipython",
        "version": 3
      },
      "file_extension": ".py",
      "mimetype": "text/x-python",
      "name": "python",
      "nbconvert_exporter": "python",
      "pygments_lexer": "ipython3",
      "version": "3.6.12"
    }
  },
  "nbformat": 4,
  "nbformat_minor": 0
}
